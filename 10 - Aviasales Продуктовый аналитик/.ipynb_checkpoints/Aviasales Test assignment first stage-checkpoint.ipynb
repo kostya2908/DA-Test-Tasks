{
 "cells": [
  {
   "cell_type": "markdown",
   "id": "c3caef17",
   "metadata": {},
   "source": [
    "# Задание 1"
   ]
  },
  {
   "cell_type": "markdown",
   "id": "a1de93dd",
   "metadata": {},
   "source": [
    "<br>\n",
    "Есть таблица с действиями юзеров A/B-теста (<i>task_1_events.csv</i>):"
   ]
  },
  {
   "cell_type": "markdown",
   "id": "b0c783d4",
   "metadata": {},
   "source": [
    "- $events$ - установки приложения\n",
    "    - $user\\_id$ - id юзера,\n",
    "    - $ab\\_group$ - группа A/B-теста,\n",
    "    - $ts$ - время совершения действия,\n",
    "    - $pdate$ - дата совершения действия."
   ]
  },
  {
   "cell_type": "markdown",
   "id": "ce9f94f3",
   "metadata": {},
   "source": [
    "Пользовательская сессия определяется по следующим правилам:\n",
    "<br>\n",
    "1. Новая сессия начинается после 30 минут бездействия.\n",
    "<br>\n",
    "2. Сессия прерывается при переходе между двумя датами."
   ]
  },
  {
   "cell_type": "markdown",
   "id": "44cd98bf",
   "metadata": {},
   "source": [
    "<b>Постройте таблицу с сессиями юзеров в формате<b>:\n",
    "<br>\n",
    "- $user\\_id$ - id юзера\n",
    "- $ab\\_group$ - группа A/B-теста,\n",
    "- $start\\_ts$ - время старта сессии,\n",
    "- $end\\_ts$ - время окончания сессии,\n",
    "- $pdate$ - дата сессии."
   ]
  },
  {
   "cell_type": "markdown",
   "id": "b364657f",
   "metadata": {},
   "source": [
    "# Задание 2"
   ]
  },
  {
   "cell_type": "markdown",
   "id": "5f6e75be",
   "metadata": {},
   "source": [
    "Был проведен A/B-тест.\n",
    "<br>\n",
    "В качестве данных используйте таблицу, построенную в предыдущем задании. Первая сессия юзера считается моментом попадания в A/B-тест.\n",
    "<br><br>\n",
    "Ключевая метрика эксперимента - конверсия во вторую сессию.\n",
    "<br>\n",
    "Сделайте вывод о том, какая группа выиграла в A/B-тесте. Ответ обоснуйте.\n",
    "<br>"
   ]
  }
 ],
 "metadata": {
  "kernelspec": {
   "display_name": "python3.8-yaksin",
   "language": "python",
   "name": "python3.8-yaksin"
  },
  "language_info": {
   "codemirror_mode": {
    "name": "ipython",
    "version": 3
   },
   "file_extension": ".py",
   "mimetype": "text/x-python",
   "name": "python",
   "nbconvert_exporter": "python",
   "pygments_lexer": "ipython3",
   "version": "3.8.3"
  },
  "toc": {
   "base_numbering": 1,
   "nav_menu": {},
   "number_sections": true,
   "sideBar": true,
   "skip_h1_title": false,
   "title_cell": "Table of Contents",
   "title_sidebar": "Contents",
   "toc_cell": false,
   "toc_position": {},
   "toc_section_display": true,
   "toc_window_display": false
  },
  "varInspector": {
   "cols": {
    "lenName": 16,
    "lenType": 16,
    "lenVar": 40
   },
   "kernels_config": {
    "python": {
     "delete_cmd_postfix": "",
     "delete_cmd_prefix": "del ",
     "library": "var_list.py",
     "varRefreshCmd": "print(var_dic_list())"
    },
    "r": {
     "delete_cmd_postfix": ") ",
     "delete_cmd_prefix": "rm(",
     "library": "var_list.r",
     "varRefreshCmd": "cat(var_dic_list()) "
    }
   },
   "types_to_exclude": [
    "module",
    "function",
    "builtin_function_or_method",
    "instance",
    "_Feature"
   ],
   "window_display": false
  }
 },
 "nbformat": 4,
 "nbformat_minor": 5
}
